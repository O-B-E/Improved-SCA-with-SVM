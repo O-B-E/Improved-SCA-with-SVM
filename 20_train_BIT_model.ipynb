{
 "cells": [
  {
   "cell_type": "markdown",
   "id": "e9678eb1",
   "metadata": {},
   "source": [
    "# Improved SCA based on SVM\n",
    "---\n",
    "\n",
    "In this notebook, we will train a model for each bit of the intermediate value to predict its value, targeting a specific byte of the encryption key similarly to `10_train_HW_model`\n",
    "\n",
    "---\n",
    "\n",
    "#### 1. Importing training traces"
   ]
  },
  {
   "cell_type": "code",
   "execution_count": 61,
   "id": "6c6db3ae",
   "metadata": {},
   "outputs": [],
   "source": [
    "import chipwhisperer as cw\n",
    "import numpy as np"
   ]
  },
  {
   "cell_type": "code",
   "execution_count": 62,
   "id": "ba7ff924",
   "metadata": {},
   "outputs": [
    {
     "name": "stdout",
     "output_type": "stream",
     "text": [
      "✅ Loaded 20000 traces and textins with key 2b7e151628aed2a6abf7158809cf4f3c\n"
     ]
    }
   ],
   "source": [
    "# To use the included Traces\n",
    "# project_file = 'SCA_SVM_DATA/Included/traces/training_traces.cwp'\n",
    "\n",
    "project_folder = 'SCA_SVM_DATA'    \n",
    "traces_folder = f'{project_folder}/traces'\n",
    "project_file = f'{traces_folder}/training_traces.cwp'\n",
    "\n",
    "project = cw.open_project(project_file)\n",
    "traces = np.array(project.waves)\n",
    "plaintexts = np.array(project.textins)\n",
    "key = project.keys[0]\n",
    "hex_key = ''.join(f'{byte:02x}' for byte in key)\n",
    "print(f\"✅ Loaded {len(traces)} traces and textins with key {hex_key}\")"
   ]
  },
  {
   "cell_type": "code",
   "execution_count": 63,
   "id": "bb81051d",
   "metadata": {},
   "outputs": [],
   "source": [
    "SBOX = np.array([\n",
    "    0x63, 0x7c, 0x77, 0x7b, 0xf2, 0x6b, 0x6f, 0xc5, 0x30, 0x01, 0x67, 0x2b, 0xfe, 0xd7, 0xab, 0x76,\n",
    "    0xca, 0x82, 0xc9, 0x7d, 0xfa, 0x59, 0x47, 0xf0, 0xad, 0xd4, 0xa2, 0xaf, 0x9c, 0xa4, 0x72, 0xc0,\n",
    "    0xb7, 0xfd, 0x93, 0x26, 0x36, 0x3f, 0xf7, 0xcc, 0x34, 0xa5, 0xe5, 0xf1, 0x71, 0xd8, 0x31, 0x15,\n",
    "    0x04, 0xc7, 0x23, 0xc3, 0x18, 0x96, 0x05, 0x9a, 0x07, 0x12, 0x80, 0xe2, 0xeb, 0x27, 0xb2, 0x75,\n",
    "    0x09, 0x83, 0x2c, 0x1a, 0x1b, 0x6e, 0x5a, 0xa0, 0x52, 0x3b, 0xd6, 0xb3, 0x29, 0xe3, 0x2f, 0x84,\n",
    "    0x53, 0xd1, 0x00, 0xed, 0x20, 0xfc, 0xb1, 0x5b, 0x6a, 0xcb, 0xbe, 0x39, 0x4a, 0x4c, 0x58, 0xcf,\n",
    "    0xd0, 0xef, 0xaa, 0xfb, 0x43, 0x4d, 0x33, 0x85, 0x45, 0xf9, 0x02, 0x7f, 0x50, 0x3c, 0x9f, 0xa8,\n",
    "    0x51, 0xa3, 0x40, 0x8f, 0x92, 0x9d, 0x38, 0xf5, 0xbc, 0xb6, 0xda, 0x21, 0x10, 0xff, 0xf3, 0xd2,\n",
    "    0xcd, 0x0c, 0x13, 0xec, 0x5f, 0x97, 0x44, 0x17, 0xc4, 0xa7, 0x7e, 0x3d, 0x64, 0x5d, 0x19, 0x73,\n",
    "    0x60, 0x81, 0x4f, 0xdc, 0x22, 0x2a, 0x90, 0x88, 0x46, 0xee, 0xb8, 0x14, 0xde, 0x5e, 0x0b, 0xdb,\n",
    "    0xe0, 0x32, 0x3a, 0x0a, 0x49, 0x06, 0x24, 0x5c, 0xc2, 0xd3, 0xac, 0x62, 0x91, 0x95, 0xe4, 0x79,\n",
    "    0xe7, 0xc8, 0x37, 0x6d, 0x8d, 0xd5, 0x4e, 0xa9, 0x6c, 0x56, 0xf4, 0xea, 0x65, 0x7a, 0xae, 0x08,\n",
    "    0xba, 0x78, 0x25, 0x2e, 0x1c, 0xa6, 0xb4, 0xc6, 0xe8, 0xdd, 0x74, 0x1f, 0x4b, 0xbd, 0x8b, 0x8a,\n",
    "    0x70, 0x3e, 0xb5, 0x66, 0x48, 0x03, 0xf6, 0x0e, 0x61, 0x35, 0x57, 0xb9, 0x86, 0xc1, 0x1d, 0x9e,\n",
    "    0xe1, 0xf8, 0x98, 0x11, 0x69, 0xd9, 0x8e, 0x94, 0x9b, 0x1e, 0x87, 0xe9, 0xce, 0x55, 0x28, 0xdf,\n",
    "    0x8c, 0xa1, 0x89, 0x0d, 0xbf, 0xe6, 0x42, 0x68, 0x41, 0x99, 0x2d, 0x0f, 0xb0, 0x54, 0xbb, 0x16\n",
    "])"
   ]
  },
  {
   "cell_type": "code",
   "execution_count": 64,
   "id": "747fa3c8",
   "metadata": {},
   "outputs": [],
   "source": [
    "# Get the bit value at a given position (0-7)\n",
    "def get_bit(value, bit_pos):\n",
    "    return (value >> bit_pos) & 1"
   ]
  },
  {
   "cell_type": "markdown",
   "id": "a42487ce",
   "metadata": {},
   "source": [
    "#### 2. Feature Selection\n",
    "Each bit may have different samples that correlate best with the intermediate value, so we will select the most relevant samples for each bit and save the selector."
   ]
  },
  {
   "cell_type": "code",
   "execution_count": 65,
   "id": "1ea74f2a",
   "metadata": {},
   "outputs": [],
   "source": [
    "# Compute intermediate values of a specific bit.\n",
    "def calculate_intermediates(plaintexts, byte_index=0, bit_index=0):\n",
    "    \n",
    "    pt_bytes = plaintexts[:,byte_index]\n",
    "    sbox_outputs = np.array([SBOX[pt ^ KEY[byte_index]] for pt in pt_bytes])\n",
    "    \n",
    "    return np.array([get_bit(s, bit_index) for s in sbox_outputs])"
   ]
  },
  {
   "cell_type": "code",
   "execution_count": 66,
   "id": "40c7dfbe",
   "metadata": {},
   "outputs": [],
   "source": [
    "from scipy.stats import pearsonr\n",
    "\n",
    "# Compute Pearson correlation for each trace point.\n",
    "def pearson_corr(X, y):\n",
    "    return np.array([ abs(pearsonr(X[:, i], y)[0]) for i in range(X.shape[1])])"
   ]
  },
  {
   "cell_type": "code",
   "execution_count": 67,
   "id": "a2dd63f9",
   "metadata": {},
   "outputs": [],
   "source": [
    "from sklearn.feature_selection import SelectKBest\n",
    "\n",
    "# Feature selection using Pearson correlation.\n",
    "def perform_feature_selection(traces, plaintexts, byte_index=0, bit_index=0, num_features=600):\n",
    "    \n",
    "    intermediates = calculate_intermediates(plaintexts, byte_index, bit_index)\n",
    "    \n",
    "    selector = SelectKBest(pearson_corr, k=num_features)\n",
    "    selector.fit(traces, intermediates)\n",
    "    \n",
    "    correlations = pearson_corr(traces, intermediates)\n",
    "    selected_points = selector.get_support(indices=True)\n",
    "    \n",
    "    print(f\"Feature selection for byte {byte_index}, bit {bit_index}:\")\n",
    "    print(f\"- Selected {len(selected_points)} points from {traces.shape[1]} total\")\n",
    "    print(f\"- Max correlation: {np.max(correlations):.4f}\")\n",
    "    \n",
    "    return selector, intermediates, correlations"
   ]
  },
  {
   "cell_type": "code",
   "execution_count": 68,
   "id": "97872f4b",
   "metadata": {},
   "outputs": [],
   "source": [
    "import warnings\n",
    "from scipy.stats import ConstantInputWarning\n",
    "\n",
    "# To suppress unnecessary warnings\n",
    "warnings.filterwarnings(\"ignore\", category=ConstantInputWarning)"
   ]
  },
  {
   "cell_type": "code",
   "execution_count": 69,
   "id": "558a8fb8",
   "metadata": {},
   "outputs": [
    {
     "name": "stdout",
     "output_type": "stream",
     "text": [
      "\n",
      "--- Feature selection for bit 0 ---\n",
      "Feature selection for byte 0, bit 0:\n",
      "- Selected 600 points from 5000 total\n",
      "- Max correlation: 0.2837\n",
      "\n",
      "--- Feature selection for bit 1 ---\n",
      "Feature selection for byte 0, bit 1:\n",
      "- Selected 600 points from 5000 total\n",
      "- Max correlation: 0.3483\n",
      "\n",
      "--- Feature selection for bit 2 ---\n",
      "Feature selection for byte 0, bit 2:\n",
      "- Selected 600 points from 5000 total\n",
      "- Max correlation: 0.2907\n",
      "\n",
      "--- Feature selection for bit 3 ---\n",
      "Feature selection for byte 0, bit 3:\n",
      "- Selected 600 points from 5000 total\n",
      "- Max correlation: 0.3498\n",
      "\n",
      "--- Feature selection for bit 4 ---\n",
      "Feature selection for byte 0, bit 4:\n",
      "- Selected 600 points from 5000 total\n",
      "- Max correlation: 0.3265\n",
      "\n",
      "--- Feature selection for bit 5 ---\n",
      "Feature selection for byte 0, bit 5:\n",
      "- Selected 600 points from 5000 total\n",
      "- Max correlation: 0.3184\n",
      "\n",
      "--- Feature selection for bit 6 ---\n",
      "Feature selection for byte 0, bit 6:\n",
      "- Selected 600 points from 5000 total\n",
      "- Max correlation: 0.2885\n",
      "\n",
      "--- Feature selection for bit 7 ---\n",
      "Feature selection for byte 0, bit 7:\n",
      "- Selected 600 points from 5000 total\n",
      "- Max correlation: 0.2642\n"
     ]
    }
   ],
   "source": [
    "import os\n",
    "\n",
    "target_byte = 0 \n",
    "\n",
    "selectors_data = []\n",
    "for bit in range(8):\n",
    "    print(f\"\\n--- Feature selection for bit {bit} ---\")\n",
    "    bit_selector, bit_intermediates, bit_correlations = perform_feature_selection(\n",
    "        traces, plaintexts, byte_index=target_byte, bit_index=bit, num_features=600 )\n",
    "    \n",
    "    selector = {'selector': bit_selector, 'intermediates': bit_intermediates}\n",
    "    selectors_data.append(selector)"
   ]
  },
  {
   "cell_type": "markdown",
   "id": "4a4869a4",
   "metadata": {},
   "source": [
    "#### 3. Training model for each bit"
   ]
  },
  {
   "cell_type": "code",
   "execution_count": 70,
   "id": "4f72328b",
   "metadata": {},
   "outputs": [],
   "source": [
    "from sklearn.feature_selection import f_regression\n",
    "from sklearn.svm import SVC\n",
    "from sklearn.model_selection import train_test_split, GridSearchCV\n",
    "from sklearn.metrics import accuracy_score, classification_report"
   ]
  },
  {
   "cell_type": "code",
   "execution_count": 71,
   "id": "fb56ba58",
   "metadata": {},
   "outputs": [],
   "source": [
    "def prepare_X_y(traces, selector, intermediates, M, N):\n",
    "    X = selector.transform(traces)[:M,:N]\n",
    "    y = intermediates[:M]\n",
    "    X_train, X_test, y_train, y_test = train_test_split(X, y, test_size=0.2, random_state=42)\n",
    "    \n",
    "    return X_train, X_test, y_train, y_test"
   ]
  },
  {
   "cell_type": "code",
   "execution_count": 72,
   "id": "1b27dafe",
   "metadata": {},
   "outputs": [],
   "source": [
    "def optimize_and_train_model(traces, selector, intermediates, M_values, N_values):\n",
    "    best_model_data = {}\n",
    "    best_score = 0\n",
    "    \n",
    "    param_grid = {\n",
    "        'C': [0.1, 1, 10, 100],\n",
    "        'gamma': [0.1, 1, 2],\n",
    "        'kernel': ['rbf', 'linear', 'polynomial', 'sigmoid'] \n",
    "    }\n",
    "    \n",
    "    for M in M_values:\n",
    "        for N in N_values:\n",
    "            X_train, X_test, y_train, y_test = prepare_X_y(traces, selector, intermediates, M, N)\n",
    "            \n",
    "            # Perform grid search\n",
    "            svm = SVC(decision_function_shape='ovo')\n",
    "            grid_search = GridSearchCV(svm, param_grid, cv=2, n_jobs=-1, verbose=1)\n",
    "            grid_search.fit(X_train, y_train)\n",
    "            \n",
    "            model = grid_search.best_estimator_\n",
    "            y_pred = model.predict(X_test)\n",
    "            score = accuracy_score(y_test, y_pred)\n",
    "            \n",
    "            # Save the best estimator\n",
    "            if score > best_score:\n",
    "                best_model_data = {'model': model, 'M': M, 'N': N, 'params': grid_search.best_params_, 'score': score}\n",
    "                \n",
    "    # Print result\n",
    "    print(f\"Best estimator with M={best_model_data['M']}, N={best_model_data['N']}, Params:{best_model_data['params']} -> Score:{best_model_data['score']}\")    \n",
    "    \n",
    "    return best_model_data"
   ]
  },
  {
   "cell_type": "code",
   "execution_count": 73,
   "id": "741bd800",
   "metadata": {},
   "outputs": [],
   "source": [
    "M_values = [x for x in range(2000, 20001, 2000)]\n",
    "N_values = [x for x in range(50, 601, 50)]"
   ]
  },
  {
   "cell_type": "code",
   "execution_count": 74,
   "id": "6d425e3d",
   "metadata": {},
   "outputs": [],
   "source": [
    "models_folder = f'{project_folder}/models'\n",
    "os.makedirs(models_folder, exist_ok = True)"
   ]
  },
  {
   "cell_type": "code",
   "execution_count": 76,
   "id": "d8eb2ab8",
   "metadata": {},
   "outputs": [
    {
     "name": "stdout",
     "output_type": "stream",
     "text": [
      "\n",
      "--- Training bit0 ---\n",
      "Best estimator with M=4000, N=250, Params:{'C': 100, 'gamma': 1, 'kernel': 'rbf'} -> Score:0.6819\n",
      "Model saved to SCA_SVM_DATA/models/bit0_model.pkl\n",
      "\n",
      "--- Training bit1 ---\n",
      "Best estimator with M=10000, N=300, Params:{'C': 100, 'gamma': 1, 'kernel': 'rbf'} -> Score:0.7375\n",
      "Model saved to SCA_SVM_DATA/models/bit1_model.pkl\n",
      "\n",
      "--- Training bit2 ---\n",
      "Best estimator with M=8000, N=250, Params:{'C': 100, 'gamma': 1, 'kernel': 'rbf'} -> Score:0.7411\n",
      "Model saved to SCA_SVM_DATA/models/bit2_model.pkl\n",
      "\n",
      "--- Training bit3 ---\n",
      "Best estimator with M=10000, N=300, Params:{'C': 100, 'gamma': 1, 'kernel': 'rbf'} -> Score:0.7981\n",
      "Model saved to SCA_SVM_DATA/models/bit3_model.pkl\n",
      "\n",
      "--- Training bit4 ---\n",
      "Best estimator with M=8000, N=250, Params:{'C': 100, 'gamma': 1, 'kernel': 'rbf'} -> Score:0.7678\n",
      "Model saved to SCA_SVM_DATA/models/bit4_model.pkl\n",
      "\n",
      "--- Training bit5 ---\n",
      "Best estimator with M=10000, N=250, Params:{'C': 100, 'gamma': 1, 'kernel': 'rbf'} -> Score:0.825\n",
      "Model saved to SCA_SVM_DATA/models/bit5_model.pkl\n",
      "\n",
      "--- Training bit6 ---\n",
      "Best estimator with M=10000, N=200, Params:{'C': 100, 'gamma': 1, 'kernel': 'rbf'} -> Score:0.7295\n",
      "Model saved to SCA_SVM_DATA/models/bit6_model.pkl\n",
      "\n",
      "--- Training bit7 ---\n",
      "Best estimator with M=8000, N=200, Params:{'C': 100, 'gamma': 1, 'kernel': 'rbf'} -> Score:0.742\n",
      "Model saved to SCA_SVM_DATA/models/bit7_model.pkl\n"
     ]
    }
   ],
   "source": [
    "import joblib\n",
    "\n",
    "for bit, selector_data in enumerate(selectors_data):\n",
    "    print(f'\\n--- Training bit{bit} ---')\n",
    "    selector = selector_data['selector']\n",
    "    intermediates = selector_data['intermediates']\n",
    "    model_data = optimize_and_train_model(traces, selector, intermediates, M_values, N_values)\n",
    "    model_data['selector'] = selector\n",
    "    \n",
    "    model_file = f'{models_folder}/bit{bit}_model.pkl'\n",
    "    joblib.dump(model_data, model_file)\n",
    "    print(f\"Model saved to {model_file}\")"
   ]
  }
 ],
 "metadata": {
  "kernelspec": {
   "display_name": "Python 3 (ipykernel)",
   "language": "python",
   "name": "python3"
  },
  "language_info": {
   "codemirror_mode": {
    "name": "ipython",
    "version": 3
   },
   "file_extension": ".py",
   "mimetype": "text/x-python",
   "name": "python",
   "nbconvert_exporter": "python",
   "pygments_lexer": "ipython3",
   "version": "3.10.8"
  }
 },
 "nbformat": 4,
 "nbformat_minor": 5
}
