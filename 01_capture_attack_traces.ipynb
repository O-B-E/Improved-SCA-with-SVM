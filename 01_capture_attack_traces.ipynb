{
 "cells": [
  {
   "cell_type": "markdown",
   "id": "e3de86e5",
   "metadata": {},
   "source": [
    "# Improved SCA based on SVM\n",
    "---\n",
    "\n",
    "In this notebook, we will set up the hardware and capture power traces as we did in `0_capture_training_traces` \\\n",
    "If you don't have a Chipwhisperer Nano you can skip this part and use the included traces.\n",
    "\n",
    "---\n",
    "#### 1. Connecting the device, building and flashing the firmware"
   ]
  },
  {
   "cell_type": "code",
   "execution_count": 2,
   "id": "c31a876e",
   "metadata": {},
   "outputs": [],
   "source": [
    "import chipwhisperer as cw"
   ]
  },
  {
   "cell_type": "code",
   "execution_count": 5,
   "id": "f8a7c008",
   "metadata": {},
   "outputs": [],
   "source": [
    "SCOPETYPE = 'CWNANO'\n",
    "PLATFORM = 'CWNANO'\n",
    "CRYPTO_TARGET='TINYAES128C'\n",
    "SS_VER='SS_VER_2_1'"
   ]
  },
  {
   "cell_type": "code",
   "execution_count": 6,
   "id": "ccada738",
   "metadata": {},
   "outputs": [
    {
     "name": "stdout",
     "output_type": "stream",
     "text": [
      "INFO: Found ChipWhisperer😍\n"
     ]
    }
   ],
   "source": [
    "%run \"../Setup_Scripts/Setup_Generic.ipynb\""
   ]
  },
  {
   "cell_type": "code",
   "execution_count": 7,
   "id": "6b98710d",
   "metadata": {},
   "outputs": [
    {
     "name": "stdout",
     "output_type": "stream",
     "text": [
      "Building for platform CWNANO with CRYPTO_TARGET=TINYAES128C\n",
      "SS_VER set to SS_VER_2_1\n",
      "SS_VER set to SS_VER_2_1\n",
      "Blank crypto options, building for AES128\n",
      "Building for platform CWNANO with CRYPTO_TARGET=TINYAES128C\n",
      "SS_VER set to SS_VER_2_1\n",
      "SS_VER set to SS_VER_2_1\n",
      "Blank crypto options, building for AES128\n",
      "make[1]: '.dep' is up to date.\n",
      "Building for platform CWNANO with CRYPTO_TARGET=TINYAES128C\n",
      "SS_VER set to SS_VER_2_1\n",
      "SS_VER set to SS_VER_2_1\n",
      "Blank crypto options, building for AES128\n",
      "arm-none-eabi-gcc (GNU Arm Embedded Toolchain 10-2020-q4-major) 10.2.1 20201103 (release)\n",
      "Copyright (C) 2020 Free Software Foundation, Inc.\n",
      "This is free software; see the source for copying conditions.  There is NO\n",
      "warranty; not even for MERCHANTABILITY or FITNESS FOR A PARTICULAR PURPOSE.\n",
      "\n",
      ".\n",
      "Welcome to another exciting ChipWhisperer target build!!\n",
      ".\n",
      "Assembling: .././hal/stm32f0/stm32f0_startup.S\n",
      "arm-none-eabi-gcc -c -mcpu=cortex-m0 -I. -x assembler-with-cpp -mthumb -mfloat-abi=soft -ffunction-sections -DF_CPU=7372800 -Wa,-gstabs,-adhlns=objdir-CWNANO/stm32f0_startup.lst -I.././simpleserial/ -I.././simpleserial/ -I.././hal -I.././hal/stm32f0 -I.././hal/stm32f0/CMSIS -I.././hal/stm32f0/CMSIS/core -I.././hal/stm32f0/CMSIS/device -I.././hal/stm32f0/Legacy -I.././crypto/ -I.././crypto/tiny-AES128-C .././hal/stm32f0/stm32f0_startup.S -o objdir-CWNANO/stm32f0_startup.o\n",
      ".\n",
      "Compiling:\n",
      "    .././crypto/aes-independant.c ...Done!\n",
      ".\n",
      "Compiling:\n",
      "    simpleserial-aes.c ...Done!\n",
      ".\n",
      "Compiling:\n",
      "    .././simpleserial/simpleserial.c ...Done!\n",
      ".\n",
      "Compiling:\n",
      "    .././hal/stm32f0_nano/stm32f0_hal_nano.c ...Done!\n",
      ".\n",
      "Compiling:\n",
      "    .././crypto/tiny-AES128-C/aes.c ...Done!\n",
      ".\n",
      "Compiling:\n",
      "    .././hal/stm32f0/stm32f0_hal_lowlevel.c ...Done!\n",
      ".\n",
      "LINKING:\n",
      "    simpleserial-aes-CWNANO.elf ...Done!\n",
      ".\n",
      "Creating load file for Flash: simpleserial-aes-CWNANO.hex\n",
      "arm-none-eabi-objcopy -O ihex -R .eeprom -R .fuse -R .lock -R .signature simpleserial-aes-CWNANO.elf simpleserial-aes-CWNANO.hex\n",
      ".\n",
      "Creating load file for Flash: simpleserial-aes-CWNANO.bin\n",
      "arm-none-eabi-objcopy -O binary -R .eeprom -R .fuse -R .lock -R .signature simpleserial-aes-CWNANO.elf simpleserial-aes-CWNANO.bin\n",
      ".\n",
      "Creating load file for EEPROM: simpleserial-aes-CWNANO.eep\n",
      "arm-none-eabi-objcopy -j .eeprom --set-section-flags=.eeprom=\"alloc,load\" \\\n",
      "--change-section-lma .eeprom=0 --no-change-warnings -O ihex simpleserial-aes-CWNANO.elf simpleserial-aes-CWNANO.eep || exit 0\n",
      ".\n",
      "Creating Extended Listing: simpleserial-aes-CWNANO.lss\n",
      "arm-none-eabi-objdump -h -S -z simpleserial-aes-CWNANO.elf > simpleserial-aes-CWNANO.lss\n",
      ".\n",
      "Creating Symbol Table: simpleserial-aes-CWNANO.sym\n",
      "arm-none-eabi-nm -n simpleserial-aes-CWNANO.elf > simpleserial-aes-CWNANO.sym\n",
      "Building for platform CWNANO with CRYPTO_TARGET=TINYAES128C\n",
      "SS_VER set to SS_VER_2_1\n",
      "SS_VER set to SS_VER_2_1\n",
      "Blank crypto options, building for AES128\n",
      "Size after:\n",
      "   text\t   data\t    bss\t    dec\t    hex\tfilename\n",
      "   5324\t    536\t   1568\t   7428\t   1d04\tsimpleserial-aes-CWNANO.elf\n",
      "+--------------------------------------------------------\n",
      "+ Default target does full rebuild each time.\n",
      "+ Specify buildtarget == allquick == to avoid full rebuild\n",
      "+--------------------------------------------------------\n",
      "+--------------------------------------------------------\n",
      "+ Built for platform CWNANO Built-in Target (STM32F030) with:\n",
      "+ CRYPTO_TARGET = TINYAES128C\n",
      "+ CRYPTO_OPTIONS = AES128C\n",
      "+--------------------------------------------------------\n"
     ]
    }
   ],
   "source": [
    "%%bash -s \"$PLATFORM\" \"$CRYPTO_TARGET\" \"$SS_VER\"\n",
    "cd ../../hardware/victims/firmware/simpleserial-aes\n",
    "make PLATFORM=$1 CRYPTO_TARGET=$2 SS_VER=$3 -j"
   ]
  },
  {
   "cell_type": "code",
   "execution_count": 9,
   "id": "2d171e1f",
   "metadata": {},
   "outputs": [
    {
     "name": "stdout",
     "output_type": "stream",
     "text": [
      "Detected known STMF32: STM32F03xx4/03xx6\n",
      "Extended erase (0x44), this can take ten seconds or more\n",
      "Attempting to program 5859 bytes at 0x8000000\n",
      "STM32F Programming flash...\n",
      "STM32F Reading flash...\n",
      "Verified flash OK, 5859 bytes\n"
     ]
    }
   ],
   "source": [
    "cw.program_target(scope, prog, \"../../hardware/victims/firmware/simpleserial-aes/simpleserial-aes-{}.hex\".format(PLATFORM))\n"
   ]
  },
  {
   "cell_type": "markdown",
   "id": "033bedeb",
   "metadata": {},
   "source": [
    "#### 2. Setting the encryption key and capturing the power traces\n",
    "We will use the **same plaintexts** as in the training traces with a **different key**."
   ]
  },
  {
   "cell_type": "code",
   "execution_count": 10,
   "id": "46fe7d2c",
   "metadata": {},
   "outputs": [
    {
     "name": "stdout",
     "output_type": "stream",
     "text": [
      "✅ Loaded 10000 plaintexts\n"
     ]
    }
   ],
   "source": [
    "import numpy as np\n",
    "\n",
    "project_folder = 'SCA_SVM_DATA'    \n",
    "traces_folder = f'{project_folder}/traces'\n",
    "project_file = f'{traces_folder}/training_traces.cwp'\n",
    "\n",
    "project = cw.open_project(project_file)\n",
    "n = 10000\n",
    "textins = project.textins[n:]\n",
    "print(f\"✅ Loaded {len(textins)} plaintexts\")\n",
    "project.close()"
   ]
  },
  {
   "cell_type": "code",
   "execution_count": 12,
   "id": "c7683d0f",
   "metadata": {},
   "outputs": [
    {
     "name": "stdout",
     "output_type": "stream",
     "text": [
      "Key set to: f47e151628aed2a6abf7158809cf4f3c\n"
     ]
    }
   ],
   "source": [
    "key = bytes.fromhex(\"f47e151628aed2a6abf7158809cf4f3c\")\n",
    "target.set_key(key)\n",
    "print(f\"Key set to: {key.hex()}\")"
   ]
  },
  {
   "cell_type": "code",
   "execution_count": 13,
   "id": "cdb0fcac",
   "metadata": {},
   "outputs": [
    {
     "data": {
      "application/vnd.jupyter.widget-view+json": {
       "model_id": "3bfd2fd15dff41b0a3e0f943ceb9de26",
       "version_major": 2,
       "version_minor": 0
      },
      "text/plain": [
       "Capturing traces:   0%|          | 0/10000 [00:00<?, ?it/s]"
      ]
     },
     "metadata": {},
     "output_type": "display_data"
    },
    {
     "name": "stdout",
     "output_type": "stream",
     "text": [
      "Captured 10000 traces.\n"
     ]
    }
   ],
   "source": [
    "from tqdm.notebook import trange\n",
    "\n",
    "traces = []\n",
    "textouts = []\n",
    "\n",
    "N = 10000\n",
    "\n",
    "# Capture traces in a loop with a progress bar.\n",
    "for i in trange(N, desc='Capturing traces'):\n",
    "    scope.arm()  # Arm the scope.\n",
    "    \n",
    "    # Send the current plaintext to the target.\n",
    "    target.simpleserial_write('p', textins[i])\n",
    "    \n",
    "    # Capture the power trace.\n",
    "    ret = scope.capture()\n",
    "    if ret:\n",
    "        print(\"Target timed out!\")\n",
    "        continue  # Skip this trace if capture fails.\n",
    "    \n",
    "    # Read the target's response.\n",
    "    response = target.simpleserial_read('r', 16)\n",
    "    \n",
    "    # Save the captured trace, plaintext, and key.\n",
    "    traces.append(scope.get_last_trace())\n",
    "    textouts.append(response)\n",
    "\n",
    "# Convert the list of traces to a NumPy array for easier processing.\n",
    "traces = np.array(traces)\n",
    "textouts = np.array(textouts)\n",
    "print(f\"Captured {len(traces)} traces.\")"
   ]
  },
  {
   "cell_type": "markdown",
   "id": "a3551caa",
   "metadata": {},
   "source": [
    "#### 3. Saving the traces and disconnecting the hardware"
   ]
  },
  {
   "cell_type": "code",
   "execution_count": 14,
   "id": "2c447d77",
   "metadata": {},
   "outputs": [
    {
     "name": "stdout",
     "output_type": "stream",
     "text": [
      "10000 traces saved to SCA_SVM_DATA/traces/attack_traces.cwp\n"
     ]
    }
   ],
   "source": [
    "project_file = f'{traces_folder}/attack_traces.cwp'\n",
    "project = cw.create_project(project_file, overwrite = True)\n",
    "for i, (trace, textout) in enumerate(zip(traces, textouts)):\n",
    "    project.traces.append(cw.Trace(wave=trace, textin=textins[i], textout=textout, key=key))\n",
    "project.save()\n",
    "\n",
    "print(f\"{len(traces)} traces saved to {project_file}\")"
   ]
  },
  {
   "cell_type": "code",
   "execution_count": 15,
   "id": "59dbbb9b",
   "metadata": {},
   "outputs": [],
   "source": [
    "scope.dis()\n",
    "target.dis()"
   ]
  },
  {
   "cell_type": "markdown",
   "id": "a4ea420b",
   "metadata": {},
   "source": [
    "These traces will be fed into the models to retrieve the encryption key."
   ]
  }
 ],
 "metadata": {
  "kernelspec": {
   "display_name": "Python 3 (ipykernel)",
   "language": "python",
   "name": "python3"
  },
  "language_info": {
   "codemirror_mode": {
    "name": "ipython",
    "version": 3
   },
   "file_extension": ".py",
   "mimetype": "text/x-python",
   "name": "python",
   "nbconvert_exporter": "python",
   "pygments_lexer": "ipython3",
   "version": "3.10.8"
  }
 },
 "nbformat": 4,
 "nbformat_minor": 5
}
