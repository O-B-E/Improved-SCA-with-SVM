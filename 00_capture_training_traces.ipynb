{
 "cells": [
  {
   "cell_type": "markdown",
   "id": "c7a113ea",
   "metadata": {},
   "source": [
    "# Improved SCA based on SVM\n",
    "---\n",
    "\n",
    "This project implements the side-channel attack described in the paper *\"An Improved Side-Channel Attack Based on Support Vector Machine\" by Zeng et al.* \\\n",
    "The paper frames power analysis of AES as a classification problem, leveraging classifiers to break the encryption.\n",
    "\n",
    "The following notebooks demonstrate breaking a single byte of a basic AES encryption key.\n",
    "\n",
    "---\n",
    "\n",
    "In this notebook, we will set up the hardware and capture power traces. \\\n",
    "If you don't have a Chipwhisperer Nano you can skip this part and use the included traces.\n",
    "\n",
    "---\n",
    "#### 1. Connecting the device, building and flashing the firmware"
   ]
  },
  {
   "cell_type": "code",
   "execution_count": 2,
   "id": "c31a876e",
   "metadata": {},
   "outputs": [],
   "source": [
    "import chipwhisperer as cw"
   ]
  },
  {
   "cell_type": "code",
   "execution_count": 3,
   "id": "f8a7c008",
   "metadata": {},
   "outputs": [],
   "source": [
    "SCOPETYPE = 'CWNANO'\n",
    "PLATFORM = 'CWNANO'\n",
    "CRYPTO_TARGET='TINYAES128C'\n",
    "SS_VER='SS_VER_2_1'"
   ]
  },
  {
   "cell_type": "code",
   "execution_count": 4,
   "id": "ced940c8",
   "metadata": {},
   "outputs": [
    {
     "name": "stdout",
     "output_type": "stream",
     "text": [
      "INFO: Found ChipWhisperer😍\n"
     ]
    }
   ],
   "source": [
    "%run \"../Setup_Scripts/Setup_Generic.ipynb\""
   ]
  },
  {
   "cell_type": "code",
   "execution_count": 5,
   "id": "e172d6e1",
   "metadata": {
    "scrolled": true
   },
   "outputs": [
    {
     "name": "stdout",
     "output_type": "stream",
     "text": [
      "Building for platform CWNANO with CRYPTO_TARGET=TINYAES128C\n",
      "SS_VER set to SS_VER_2_1\n",
      "SS_VER set to SS_VER_2_1\n",
      "Blank crypto options, building for AES128\n",
      "Building for platform CWNANO with CRYPTO_TARGET=TINYAES128C\n",
      "SS_VER set to SS_VER_2_1\n",
      "SS_VER set to SS_VER_2_1\n",
      "Blank crypto options, building for AES128\n",
      "make[1]: '.dep' is up to date.\n",
      "Building for platform CWNANO with CRYPTO_TARGET=TINYAES128C\n",
      "SS_VER set to SS_VER_2_1\n",
      "SS_VER set to SS_VER_2_1\n",
      "Blank crypto options, building for AES128\n",
      "arm-none-eabi-gcc (GNU Arm Embedded Toolchain 10-2020-q4-major) 10.2.1 20201103 (release)\n",
      "Copyright (C) 2020 Free Software Foundation, Inc.\n",
      "This is free software; see the source for copying conditions.  There is NO\n",
      "warranty; not even for MERCHANTABILITY or FITNESS FOR A PARTICULAR PURPOSE.\n",
      "\n",
      ".\n",
      "Welcome to another exciting ChipWhisperer target build!!\n",
      ".\n",
      "Assembling: .././hal/stm32f0/stm32f0_startup.S\n",
      "arm-none-eabi-gcc -c -mcpu=cortex-m0 -I. -x assembler-with-cpp -mthumb -mfloat-abi=soft -ffunction-sections -DF_CPU=7372800 -Wa,-gstabs,-adhlns=objdir-CWNANO/stm32f0_startup.lst -I.././simpleserial/ -I.././simpleserial/ -I.././hal -I.././hal/stm32f0 -I.././hal/stm32f0/CMSIS -I.././hal/stm32f0/CMSIS/core -I.././hal/stm32f0/CMSIS/device -I.././hal/stm32f0/Legacy -I.././crypto/ -I.././crypto/tiny-AES128-C .././hal/stm32f0/stm32f0_startup.S -o objdir-CWNANO/stm32f0_startup.o\n",
      ".\n",
      "Compiling:\n",
      "    simpleserial-aes.c ...Done!\n",
      ".\n",
      "Compiling:\n",
      "    .././simpleserial/simpleserial.c ...Done!\n",
      ".\n",
      "Compiling:\n",
      "    .././crypto/aes-independant.c ...Done!\n",
      ".\n",
      "Compiling:\n",
      "    .././crypto/tiny-AES128-C/aes.c ...Done!\n",
      ".\n",
      "Compiling:\n",
      "    .././hal/stm32f0_nano/stm32f0_hal_nano.c ...Done!\n",
      ".\n",
      "Compiling:\n",
      "    .././hal/stm32f0/stm32f0_hal_lowlevel.c ...Done!\n",
      ".\n",
      "LINKING:\n",
      "    simpleserial-aes-CWNANO.elf ...Done!\n",
      ".\n",
      "Creating load file for Flash: simpleserial-aes-CWNANO.bin\n",
      "arm-none-eabi-objcopy -O binary -R .eeprom -R .fuse -R .lock -R .signature simpleserial-aes-CWNANO.elf simpleserial-aes-CWNANO.bin\n",
      ".\n",
      "Creating load file for Flash: simpleserial-aes-CWNANO.hex\n",
      "arm-none-eabi-objcopy -O ihex -R .eeprom -R .fuse -R .lock -R .signature simpleserial-aes-CWNANO.elf simpleserial-aes-CWNANO.hex\n",
      ".\n",
      "Creating load file for EEPROM: simpleserial-aes-CWNANO.eep\n",
      "arm-none-eabi-objcopy -j .eeprom --set-section-flags=.eeprom=\"alloc,load\" \\\n",
      "--change-section-lma .eeprom=0 --no-change-warnings -O ihex simpleserial-aes-CWNANO.elf simpleserial-aes-CWNANO.eep || exit 0\n",
      ".\n",
      "Creating Symbol Table: simpleserial-aes-CWNANO.sym\n",
      "arm-none-eabi-nm -n simpleserial-aes-CWNANO.elf > simpleserial-aes-CWNANO.sym\n",
      ".\n",
      "Creating Extended Listing: simpleserial-aes-CWNANO.lss\n",
      "arm-none-eabi-objdump -h -S -z simpleserial-aes-CWNANO.elf > simpleserial-aes-CWNANO.lss\n",
      "Building for platform CWNANO with CRYPTO_TARGET=TINYAES128C\n",
      "SS_VER set to SS_VER_2_1\n",
      "SS_VER set to SS_VER_2_1\n",
      "Blank crypto options, building for AES128\n",
      "Size after:\n",
      "   text\t   data\t    bss\t    dec\t    hex\tfilename\n",
      "   5324\t    536\t   1568\t   7428\t   1d04\tsimpleserial-aes-CWNANO.elf\n",
      "+--------------------------------------------------------\n",
      "+ Default target does full rebuild each time.\n",
      "+ Specify buildtarget == allquick == to avoid full rebuild\n",
      "+--------------------------------------------------------\n",
      "+--------------------------------------------------------\n",
      "+ Built for platform CWNANO Built-in Target (STM32F030) with:\n",
      "+ CRYPTO_TARGET = TINYAES128C\n",
      "+ CRYPTO_OPTIONS = AES128C\n",
      "+--------------------------------------------------------\n"
     ]
    }
   ],
   "source": [
    "%%bash -s \"$PLATFORM\" \"$CRYPTO_TARGET\" \"$SS_VER\"\n",
    "cd ../../hardware/victims/firmware/simpleserial-aes\n",
    "make PLATFORM=$1 CRYPTO_TARGET=$2 SS_VER=$3 -j"
   ]
  },
  {
   "cell_type": "markdown",
   "id": "f0903987",
   "metadata": {},
   "source": [
    "`Note:` Make sure to remove or comment out the *ADD_JITTER* in the firmware."
   ]
  },
  {
   "cell_type": "code",
   "execution_count": 6,
   "id": "0d3f8b43",
   "metadata": {
    "scrolled": true
   },
   "outputs": [
    {
     "name": "stdout",
     "output_type": "stream",
     "text": [
      "Detected known STMF32: STM32F03xx4/03xx6\n",
      "Extended erase (0x44), this can take ten seconds or more\n",
      "Attempting to program 5859 bytes at 0x8000000\n",
      "STM32F Programming flash...\n",
      "STM32F Reading flash...\n",
      "Verified flash OK, 5859 bytes\n"
     ]
    }
   ],
   "source": [
    "cw.program_target(scope, prog, \"../../hardware/victims/firmware/simpleserial-aes/simpleserial-aes-{}.hex\".format(PLATFORM))"
   ]
  },
  {
   "cell_type": "markdown",
   "id": "c08706b0",
   "metadata": {},
   "source": [
    "#### 2. Setting the encryption key and capturing the power traces"
   ]
  },
  {
   "cell_type": "code",
   "execution_count": 7,
   "id": "8671c7a1",
   "metadata": {},
   "outputs": [
    {
     "name": "stdout",
     "output_type": "stream",
     "text": [
      "Key set to: 2b7e151628aed2a6abf7158809cf4f3c\n"
     ]
    }
   ],
   "source": [
    "key = bytes.fromhex(\"2b7e151628aed2a6abf7158809cf4f3c\")\n",
    "target.set_key(key)\n",
    "print(f\"Key set to: {key.hex()}\")"
   ]
  },
  {
   "cell_type": "code",
   "execution_count": 8,
   "id": "ef338474",
   "metadata": {},
   "outputs": [
    {
     "data": {
      "application/vnd.jupyter.widget-view+json": {
       "model_id": "017634a88f304522a069e8649a9020fc",
       "version_major": 2,
       "version_minor": 0
      },
      "text/plain": [
       "Capturing traces:   0%|          | 0/20000 [00:00<?, ?it/s]"
      ]
     },
     "metadata": {},
     "output_type": "display_data"
    },
    {
     "name": "stdout",
     "output_type": "stream",
     "text": [
      "Captured 20000 traces.\n"
     ]
    }
   ],
   "source": [
    "import numpy as np\n",
    "from tqdm.notebook import trange\n",
    "\n",
    "traces = []\n",
    "textins = []\n",
    "textouts = []\n",
    "\n",
    "# Number of traces to capture\n",
    "N = 20000\n",
    "\n",
    "ktp = cw.ktp.Basic()\n",
    "\n",
    "# Capture traces in a loop with a progress bar.\n",
    "for i in trange(N, desc='Capturing traces'):\n",
    "    scope.arm()  # Arm the scope.\n",
    "    \n",
    "    # Get the next key and plaintext for the following iteration.\n",
    "    _, text = ktp.next()\n",
    "    \n",
    "    # Send the current plaintext to the target.\n",
    "    target.simpleserial_write('p', text)\n",
    "    \n",
    "    # Capture the power trace.\n",
    "    ret = scope.capture()\n",
    "    if ret:\n",
    "        print(\"Target timed out!\")\n",
    "        continue  # Skip this trace if capture fails.\n",
    "    \n",
    "    # Read the target's response.\n",
    "    response = target.simpleserial_read('r', 16)\n",
    "    \n",
    "    # Save the captured trace, plaintext, and key.\n",
    "    traces.append(scope.get_last_trace())\n",
    "    textins.append(text)\n",
    "    textouts.append(response)\n",
    "\n",
    "# Convert the list of traces to a NumPy array for easier processing.\n",
    "traces = np.array(traces)\n",
    "print(f\"Captured {len(traces)} traces.\")"
   ]
  },
  {
   "cell_type": "markdown",
   "id": "b76d649d",
   "metadata": {},
   "source": [
    "#### 3. Saving the traces and disconnecting the hardware"
   ]
  },
  {
   "cell_type": "code",
   "execution_count": 12,
   "id": "18f609b6",
   "metadata": {},
   "outputs": [
    {
     "name": "stdout",
     "output_type": "stream",
     "text": [
      "20000 traces saved to SCA_SVM_DATA/traces/training_traces.cwp\n"
     ]
    }
   ],
   "source": [
    "import os\n",
    "\n",
    "project_folder = 'SCA_SVM_DATA'    \n",
    "traces_folder = f'{project_folder}/traces'\n",
    "os.makedirs(traces_folder, exist_ok = True)    \n",
    "project_file = f'{traces_folder}/training_traces.cwp'\n",
    "project = cw.create_project(project_file, overwrite = True)\n",
    "for i, (trace, textin, textout) in enumerate(zip(traces, textins, textouts)):\n",
    "    project.traces.append(cw.Trace(wave=trace, textin=textin, textout=textout, key=key))\n",
    "project.save()\n",
    "\n",
    "print(f\"{len(traces)} traces saved to {project_file}\")"
   ]
  },
  {
   "cell_type": "code",
   "execution_count": 13,
   "id": "0908983c",
   "metadata": {},
   "outputs": [],
   "source": [
    "scope.dis()\n",
    "target.dis()"
   ]
  },
  {
   "cell_type": "markdown",
   "id": "47e9fa5b",
   "metadata": {},
   "source": [
    "### That's it! We're ready to train the models"
   ]
  }
 ],
 "metadata": {
  "kernelspec": {
   "display_name": "Python 3 (ipykernel)",
   "language": "python",
   "name": "python3"
  },
  "language_info": {
   "codemirror_mode": {
    "name": "ipython",
    "version": 3
   },
   "file_extension": ".py",
   "mimetype": "text/x-python",
   "name": "python",
   "nbconvert_exporter": "python",
   "pygments_lexer": "ipython3",
   "version": "3.10.8"
  }
 },
 "nbformat": 4,
 "nbformat_minor": 5
}
